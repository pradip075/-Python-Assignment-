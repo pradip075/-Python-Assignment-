{
 "cells": [
  {
   "cell_type": "code",
   "execution_count": 4,
   "id": "6858fac1-1a35-43ef-9044-941c607cfc01",
   "metadata": {},
   "outputs": [],
   "source": [
    "li = [('Sachin Tendulkar', 34357), ('Ricky Ponting', 27483), ('Jack Kallis', 25534), ('Virat Kohli', 24936)]"
   ]
  },
  {
   "cell_type": "code",
   "execution_count": 5,
   "id": "30c2eea5-5309-478e-8f60-f201307f9128",
   "metadata": {},
   "outputs": [
    {
     "name": "stdout",
     "output_type": "stream",
     "text": [
      "[('Sachin Tendulkar', 34357), ('Ricky Ponting', 27483), ('Jack Kallis', 25534), ('Virat Kohli', 24936)]\n"
     ]
    }
   ],
   "source": [
    "sorted_data = sorted(li, key=lambda x: x[1], reverse=True)\n",
    "print(sorted_data)"
   ]
  },
  {
   "cell_type": "code",
   "execution_count": 6,
   "id": "d8ecfaf1-ed59-4f43-9ac4-057cb543aac4",
   "metadata": {},
   "outputs": [],
   "source": [
    "number = [1, 2, 3, 4, 5, 6, 7, 8, 9, 10]"
   ]
  },
  {
   "cell_type": "code",
   "execution_count": 8,
   "id": "424e177e-4c0c-4802-9b79-fdecf1b80309",
   "metadata": {},
   "outputs": [
    {
     "name": "stdout",
     "output_type": "stream",
     "text": [
      "[1, 4, 9, 16, 25, 36, 49, 64, 81, 100]\n"
     ]
    }
   ],
   "source": [
    "squared_number = list(map(lambda x: x ** 2, number))\n",
    "print(squared_number)\n"
   ]
  },
  {
   "cell_type": "code",
   "execution_count": 10,
   "id": "7d95bba9-8671-42a1-ac82-9b4ff74789c3",
   "metadata": {},
   "outputs": [],
   "source": [
    "l = [1, 2, 3, 4, 5, 6, 7, 8, 9, 10]"
   ]
  },
  {
   "cell_type": "code",
   "execution_count": 11,
   "id": "83ccfae2-7bf8-4911-9fd1-fc8e863946c8",
   "metadata": {},
   "outputs": [
    {
     "name": "stdout",
     "output_type": "stream",
     "text": [
      "('1', '2', '3', '4', '5', '6', '7', '8', '9', '10')\n"
     ]
    }
   ],
   "source": [
    "converted_data = tuple(map(lambda x: str(x), l))\n",
    "print(converted_data)\n"
   ]
  },
  {
   "cell_type": "code",
   "execution_count": 12,
   "id": "b355bde4-9809-43b9-9653-18d6abf01968",
   "metadata": {},
   "outputs": [
    {
     "name": "stdout",
     "output_type": "stream",
     "text": [
      "15511210043330985984000000\n"
     ]
    }
   ],
   "source": [
    "from functools import reduce\n",
    "data = list(range(1, 26))\n",
    "product = reduce(lambda x, y: x * y, data)\n",
    "print(product)\n"
   ]
  },
  {
   "cell_type": "code",
   "execution_count": 14,
   "id": "fb184096-0bcc-42ae-b24e-5a196f733da0",
   "metadata": {},
   "outputs": [],
   "source": [
    "n1 = [2, 3, 6, 9, 27, 60, 90, 120, 55, 46]"
   ]
  },
  {
   "cell_type": "code",
   "execution_count": 15,
   "id": "e9fda5b7-8015-46ea-b7aa-1ef3094d067a",
   "metadata": {},
   "outputs": [
    {
     "name": "stdout",
     "output_type": "stream",
     "text": [
      "[6, 60, 90, 120]\n"
     ]
    }
   ],
   "source": [
    "filtered_data = list(filter(lambda x: (x % 2 == 0) and (x % 3 == 0), n1))\n",
    "\n",
    "print(filtered_data)\n"
   ]
  },
  {
   "cell_type": "code",
   "execution_count": 17,
   "id": "0cd10f19-bd90-4ada-8e8c-9688e6dff397",
   "metadata": {},
   "outputs": [],
   "source": [
    "p1= ['python', 'php', 'aba', 'radar', 'level']"
   ]
  },
  {
   "cell_type": "code",
   "execution_count": 18,
   "id": "807e2b3f-8e58-4f01-b25f-3c56dd18daba",
   "metadata": {},
   "outputs": [
    {
     "name": "stdout",
     "output_type": "stream",
     "text": [
      "['php', 'aba', 'radar', 'level']\n"
     ]
    }
   ],
   "source": [
    "palindromes = list(filter(lambda x: x == x[::-1],p1))\n",
    "\n",
    "print(palindromes)\n"
   ]
  },
  {
   "cell_type": "code",
   "execution_count": null,
   "id": "82d45f0b-8f0d-4506-b76c-fef54f7dc242",
   "metadata": {},
   "outputs": [],
   "source": []
  }
 ],
 "metadata": {
  "kernelspec": {
   "display_name": "Python 3 (ipykernel)",
   "language": "python",
   "name": "python3"
  },
  "language_info": {
   "codemirror_mode": {
    "name": "ipython",
    "version": 3
   },
   "file_extension": ".py",
   "mimetype": "text/x-python",
   "name": "python",
   "nbconvert_exporter": "python",
   "pygments_lexer": "ipython3",
   "version": "3.10.6"
  }
 },
 "nbformat": 4,
 "nbformat_minor": 5
}
